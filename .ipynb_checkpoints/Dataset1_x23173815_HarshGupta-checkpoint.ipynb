{
 "cells": [
  {
   "cell_type": "markdown",
   "id": "f37ced5f-ea3c-4bf7-8c9d-b4df3337d2f8",
   "metadata": {},
   "source": [
    "# Name - Harsh Gupta\n",
    "# Student Id - x23173815"
   ]
  },
  {
   "cell_type": "markdown",
   "id": "df685ddd-5a16-4868-936e-d7f089e6e983",
   "metadata": {},
   "source": [
    "### ----------------------------------------------------------------------------------------------------------------------------------------------------"
   ]
  },
  {
   "cell_type": "markdown",
   "id": "db3f95db-3dcf-468d-b7c6-c98b051ffade",
   "metadata": {},
   "source": [
    "# I took a dataset from this url \"https://www.fao.org/faostat/en/#data/GCE\" which is \"Emission from Crops\" where I selected some certain amount of data Globally from the year 2000 to 2021 in Environment Domain."
   ]
  },
  {
   "cell_type": "markdown",
   "id": "9e17db95-752c-441a-8fb8-15a8fdacfd5e",
   "metadata": {},
   "source": [
    "### Using selenium to extract the data and my data will be downloaded in my PC \"Downloads\" named - \"FAOSTAT_data_en_4-26-2024\".\n",
    "### Download time varies as data is large around 6.8mb and it takes time to download data "
   ]
  },
  {
   "cell_type": "code",
   "execution_count": 1,
   "id": "bc9a5019-e1a7-43cd-b405-60a912c0b8af",
   "metadata": {},
   "outputs": [],
   "source": [
    "# Installing selenium for our project \n",
    "\n",
    "#pip install selenium\n",
    "#pip install webdriver-manager"
   ]
  },
  {
   "cell_type": "code",
   "execution_count": 2,
   "id": "746deedd-5784-4dc4-8aa9-dd6b5bbae237",
   "metadata": {},
   "outputs": [],
   "source": [
    "import selenium\n",
    "import os"
   ]
  },
  {
   "cell_type": "code",
   "execution_count": 3,
   "id": "e3ec07d1-26cd-4440-a49f-a910732cdc6c",
   "metadata": {},
   "outputs": [],
   "source": [
    "from selenium import webdriver\n",
    "from selenium.webdriver.chrome.service import Service\n",
    "from webdriver_manager.chrome import ChromeDriverManager\n",
    "from selenium.webdriver.chrome.options import Options\n",
    "from selenium.webdriver.common.by import By\n",
    "from selenium.webdriver.support.ui import WebDriverWait\n",
    "from selenium.webdriver.support import expected_conditions as EC\n"
   ]
  },
  {
   "cell_type": "code",
   "execution_count": 4,
   "id": "a5ec7ba8-552e-40d0-9db7-b7f30c974276",
   "metadata": {},
   "outputs": [],
   "source": [
    "options = Options()\n",
    "service = Service(ChromeDriverManager().install())\n",
    "driver = webdriver.Chrome(service=service, options=options)\n",
    "\n",
    "#Use get function we access the URL\n",
    "driver.get(\"https://www.fao.org/faostat/en/#data/GCE\")\n"
   ]
  },
  {
   "cell_type": "code",
   "execution_count": 5,
   "id": "205963d4-bd10-43ba-b2dd-ce979aa10de7",
   "metadata": {},
   "outputs": [],
   "source": [
    "#We use WebDriverWait for timeouts\n",
    "wait = WebDriverWait(driver, 20)  # Wait up to 20 seconds\n",
    "\n",
    "#Locate and click the first button using its XPath\n",
    "first_button = wait.until(EC.element_to_be_clickable((By.XPATH, '/html/body/div[4]/div[3]/div/div[4]/div[1]/div/div[1]/div/div[2]/div/div[1]/div/div[1]/div/div/div[3]/div[1]/div/div/button[1]')))\n",
    "first_button.click()\n",
    "\n",
    "#Locate and click the second element\n",
    "second_element = wait.until(EC.element_to_be_clickable((By.XPATH, '/html/body/div[4]/div[3]/div/div[4]/div[1]/div/div[1]/div/div[2]/div/div[1]/div/div[2]/div/div/div[2]/div[2]/div/div/ul/li[2]/a/span')))\n",
    "second_element.click()\n",
    "\n",
    "#Locate and click the third element\n",
    "third_element = wait.until(EC.element_to_be_clickable((By.XPATH, '/html/body/div[4]/div[3]/div/div[4]/div[1]/div/div[1]/div/div[2]/div/div[1]/div/div[4]/div/div/div[3]/div[1]/div/div/button[1]')))\n",
    "third_element.click()\n",
    "\n",
    "#Locate and click the fourth element\n",
    "fourth_element = wait.until(EC.element_to_be_clickable((By.XPATH, '/html/body/div[4]/div[3]/div/div[4]/div[1]/div/div[1]/div/div[2]/div/div[1]/div/div[2]/div/div/div[2]/div[2]/div/div/ul/li[1]/a/i[1]')))\n",
    "fourth_element.click()\n",
    "\n",
    "#Locate and click the fifth element\n",
    "fifth_element = wait.until(EC.element_to_be_clickable((By.XPATH, '/html/body/div[4]/div[3]/div/div[4]/div[1]/div/div[1]/div/div[2]/div/div[1]/div/div[5]/div/div/div[2]/div[2]/div[1]')))\n",
    "fifth_element.click()\n"
   ]
  },
  {
   "cell_type": "code",
   "execution_count": 6,
   "id": "9fc231d5-77fd-409d-b996-d348c5206af0",
   "metadata": {},
   "outputs": [],
   "source": [
    "container_xpath = '/html/body/div[4]/div[3]/div/div[4]/div[1]/div/div[1]/div/div[2]/div/div[1]/div/div[5]/div/div/div[2]/div[2]/div[1]'\n",
    "\n",
    "#Selecting only 2000 to 2022 years for our project \n",
    "\n",
    "for year in range(2000, 2022):  # This will loop from 2000 to 2021 inclusive\n",
    "    year_xpath = f\"{container_xpath}//li[contains(., '{year}')]\"  # Update the XPath pattern if needed\n",
    "    \n",
    "    # Wait for the year to become clickable, then click it\n",
    "    WebDriverWait(driver, 15).until(EC.element_to_be_clickable((By.XPATH, year_xpath))).click()\n"
   ]
  },
  {
   "cell_type": "code",
   "execution_count": 7,
   "id": "b2ecb659-9e6e-446e-b91b-0c2710adc861",
   "metadata": {},
   "outputs": [],
   "source": [
    "download_file = wait.until(EC.element_to_be_clickable((By.XPATH,'/html/body/div[4]/div[3]/div/div[4]/div[1]/div/div[1]/div/div[2]/div/div[2]/div[2]/div[3]/button')))\n",
    "download_file.click() "
   ]
  },
  {
   "cell_type": "markdown",
   "id": "95009ccb-5d99-4eb3-9582-0d865c8c9338",
   "metadata": {},
   "source": [
    "### We didnt quit the browser because depending on net speed download will take different time, so we hastag it "
   ]
  },
  {
   "cell_type": "code",
   "execution_count": 8,
   "id": "6474e3e3-626d-4972-bb4c-f2a06ee20579",
   "metadata": {},
   "outputs": [],
   "source": [
    "#driver.quit()"
   ]
  },
  {
   "cell_type": "markdown",
   "id": "ce6835dd-25c5-4212-9690-8a7f94da4879",
   "metadata": {},
   "source": [
    "### Now we rename the file as \"Emission from Crops\" and put in our jupyter folder"
   ]
  },
  {
   "cell_type": "markdown",
   "id": "5db06238-6797-4d55-a1ec-cef9bf889bec",
   "metadata": {},
   "source": [
    "### ----------------------------------------------------------------------------------------------------------------------------------------------------"
   ]
  },
  {
   "cell_type": "markdown",
   "id": "f3add1a8-0eef-4330-ad93-fe9ea5ca5423",
   "metadata": {},
   "source": [
    "# Now the next step is to load the data in MONGODB using pymongo"
   ]
  },
  {
   "cell_type": "code",
   "execution_count": 9,
   "id": "194952cd-11a3-4b4c-b66e-d62f54f041ff",
   "metadata": {},
   "outputs": [],
   "source": [
    "#Install pymongo package\n",
    "#pip install pymongo"
   ]
  },
  {
   "cell_type": "code",
   "execution_count": 10,
   "id": "e5fa4aa0-364c-40cb-a968-0d556a42be2d",
   "metadata": {},
   "outputs": [],
   "source": [
    "#Install dnspython for DNS support\n",
    "#pip install pymongo dnspython"
   ]
  },
  {
   "cell_type": "code",
   "execution_count": 11,
   "id": "9696a6ff-f89a-4367-91b8-f9e6e1b76cd4",
   "metadata": {},
   "outputs": [],
   "source": [
    "# Import library to connect to database\n",
    "\n",
    "import pandas as pd\n",
    "from pymongo import MongoClient"
   ]
  },
  {
   "cell_type": "code",
   "execution_count": 12,
   "id": "1cbdefea-c408-490f-a0c7-0ee53e9960e2",
   "metadata": {},
   "outputs": [],
   "source": [
    "# Loading data from our CSV file \n",
    "\n",
    "csv_file = \"Emission from Crops.csv\"\n",
    "data = pd.read_csv(csv_file)"
   ]
  },
  {
   "cell_type": "markdown",
   "id": "52e2ce87-6b6a-4c47-b6db-3e481bbe64c2",
   "metadata": {},
   "source": [
    "### I created a account with my student id on \"MONGODB\" and created a shared cluster with name \"cluster0\""
   ]
  },
  {
   "cell_type": "markdown",
   "id": "a9bc7b6f-e49c-475c-89dd-c09a8070a62e",
   "metadata": {},
   "source": [
    "### Creating a database connection using the tool \"mongodb compass\" and accessing it "
   ]
  },
  {
   "cell_type": "markdown",
   "id": "352ad884-6632-43ba-96e5-2c6537faf5be",
   "metadata": {},
   "source": [
    "### I even made a Universal Ip so that anyone with the link can access from anywhere "
   ]
  },
  {
   "cell_type": "code",
   "execution_count": null,
   "id": "a32566cc-a3a8-4bff-a543-f5eb9a7ef43f",
   "metadata": {},
   "outputs": [],
   "source": []
  }
 ],
 "metadata": {
  "kernelspec": {
   "display_name": "Python 3 (ipykernel)",
   "language": "python",
   "name": "python3"
  },
  "language_info": {
   "codemirror_mode": {
    "name": "ipython",
    "version": 3
   },
   "file_extension": ".py",
   "mimetype": "text/x-python",
   "name": "python",
   "nbconvert_exporter": "python",
   "pygments_lexer": "ipython3",
   "version": "3.11.5"
  }
 },
 "nbformat": 4,
 "nbformat_minor": 5
}
