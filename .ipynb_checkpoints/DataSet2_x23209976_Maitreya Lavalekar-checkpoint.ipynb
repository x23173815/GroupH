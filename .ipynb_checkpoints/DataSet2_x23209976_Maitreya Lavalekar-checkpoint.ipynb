{
 "cells": [
  {
   "cell_type": "markdown",
   "id": "f9af370d-63f2-4aad-ae09-bf082e387aeb",
   "metadata": {},
   "source": [
    "# --------------------------------------------------------------------------------------------------------------------------------------------------------------------------------------"
   ]
  },
  {
   "cell_type": "markdown",
   "id": "e1ea30f6-6840-42ec-b656-0e69a8139044",
   "metadata": {},
   "source": [
    "## Name :- Maitreya Govind Lavalekar \n",
    "## Student No:- x23209976\n",
    "## Database & Analytics Programming (MSCDAD_A_JAN24I)"
   ]
  },
  {
   "cell_type": "markdown",
   "id": "574e3f30-2914-4daa-ab82-4458e0ea2313",
   "metadata": {},
   "source": [
    "# ----------------------------------------------------------------------------------------------------------------------------------------------------------------------------------------"
   ]
  },
  {
   "cell_type": "markdown",
   "id": "5952bbe4-100a-49dc-8392-5f47c2010be5",
   "metadata": {},
   "source": [
    "#   Installed  Libraries  "
   ]
  },
  {
   "cell_type": "code",
   "execution_count": 6,
   "id": "7b6f6068-9608-4005-bde4-69251e674ae6",
   "metadata": {},
   "outputs": [
    {
     "name": "stdout",
     "output_type": "stream",
     "text": [
      "Requirement already satisfied: selenium in c:\\users\\maitreya\\anaconda3\\envs\\r4-base\\lib\\site-packages (4.18.1)\n",
      "Requirement already satisfied: urllib3<3,>=1.26 in c:\\users\\maitreya\\anaconda3\\envs\\r4-base\\lib\\site-packages (from urllib3[socks]<3,>=1.26->selenium) (2.1.0)\n",
      "Requirement already satisfied: trio~=0.17 in c:\\users\\maitreya\\anaconda3\\envs\\r4-base\\lib\\site-packages (from selenium) (0.24.0)\n",
      "Requirement already satisfied: trio-websocket~=0.9 in c:\\users\\maitreya\\anaconda3\\envs\\r4-base\\lib\\site-packages (from selenium) (0.11.1)\n",
      "Requirement already satisfied: certifi>=2021.10.8 in c:\\users\\maitreya\\anaconda3\\envs\\r4-base\\lib\\site-packages (from selenium) (2024.2.2)\n",
      "Requirement already satisfied: typing_extensions>=4.9.0 in c:\\users\\maitreya\\anaconda3\\envs\\r4-base\\lib\\site-packages (from selenium) (4.9.0)\n",
      "Requirement already satisfied: attrs>=20.1.0 in c:\\users\\maitreya\\anaconda3\\envs\\r4-base\\lib\\site-packages (from trio~=0.17->selenium) (23.1.0)\n",
      "Requirement already satisfied: sortedcontainers in c:\\users\\maitreya\\anaconda3\\envs\\r4-base\\lib\\site-packages (from trio~=0.17->selenium) (2.4.0)\n",
      "Requirement already satisfied: idna in c:\\users\\maitreya\\anaconda3\\envs\\r4-base\\lib\\site-packages (from trio~=0.17->selenium) (3.4)\n",
      "Requirement already satisfied: outcome in c:\\users\\maitreya\\anaconda3\\envs\\r4-base\\lib\\site-packages (from trio~=0.17->selenium) (1.3.0.post0)\n",
      "Requirement already satisfied: sniffio>=1.3.0 in c:\\users\\maitreya\\anaconda3\\envs\\r4-base\\lib\\site-packages (from trio~=0.17->selenium) (1.3.0)\n",
      "Requirement already satisfied: cffi>=1.14 in c:\\users\\maitreya\\anaconda3\\envs\\r4-base\\lib\\site-packages (from trio~=0.17->selenium) (1.16.0)\n",
      "Requirement already satisfied: wsproto>=0.14 in c:\\users\\maitreya\\anaconda3\\envs\\r4-base\\lib\\site-packages (from trio-websocket~=0.9->selenium) (1.2.0)\n",
      "Requirement already satisfied: pysocks!=1.5.7,<2.0,>=1.5.6 in c:\\users\\maitreya\\anaconda3\\envs\\r4-base\\lib\\site-packages (from urllib3[socks]<3,>=1.26->selenium) (1.7.1)\n",
      "Requirement already satisfied: pycparser in c:\\users\\maitreya\\anaconda3\\envs\\r4-base\\lib\\site-packages (from cffi>=1.14->trio~=0.17->selenium) (2.21)\n",
      "Requirement already satisfied: h11<1,>=0.9.0 in c:\\users\\maitreya\\anaconda3\\envs\\r4-base\\lib\\site-packages (from wsproto>=0.14->trio-websocket~=0.9->selenium) (0.14.0)\n",
      "Note: you may need to restart the kernel to use updated packages.\n"
     ]
    }
   ],
   "source": [
    "pip install selenium"
   ]
  },
  {
   "cell_type": "code",
   "execution_count": 7,
   "id": "f4957581-aeda-4b67-bd60-1bfb6a1e36d4",
   "metadata": {},
   "outputs": [
    {
     "name": "stdout",
     "output_type": "stream",
     "text": [
      "Requirement already satisfied: webdriver-manager in c:\\users\\maitreya\\anaconda3\\envs\\r4-base\\lib\\site-packages (4.0.1)Note: you may need to restart the kernel to use updated packages.\n",
      "\n",
      "Requirement already satisfied: requests in c:\\users\\maitreya\\anaconda3\\envs\\r4-base\\lib\\site-packages (from webdriver-manager) (2.31.0)\n",
      "Requirement already satisfied: python-dotenv in c:\\users\\maitreya\\anaconda3\\envs\\r4-base\\lib\\site-packages (from webdriver-manager) (1.0.1)\n",
      "Requirement already satisfied: packaging in c:\\users\\maitreya\\anaconda3\\envs\\r4-base\\lib\\site-packages (from webdriver-manager) (23.1)\n",
      "Requirement already satisfied: charset-normalizer<4,>=2 in c:\\users\\maitreya\\anaconda3\\envs\\r4-base\\lib\\site-packages (from requests->webdriver-manager) (2.0.4)\n",
      "Requirement already satisfied: idna<4,>=2.5 in c:\\users\\maitreya\\anaconda3\\envs\\r4-base\\lib\\site-packages (from requests->webdriver-manager) (3.4)\n",
      "Requirement already satisfied: urllib3<3,>=1.21.1 in c:\\users\\maitreya\\anaconda3\\envs\\r4-base\\lib\\site-packages (from requests->webdriver-manager) (2.1.0)\n",
      "Requirement already satisfied: certifi>=2017.4.17 in c:\\users\\maitreya\\anaconda3\\envs\\r4-base\\lib\\site-packages (from requests->webdriver-manager) (2024.2.2)\n"
     ]
    }
   ],
   "source": [
    "pip install webdriver-manager"
   ]
  },
  {
   "cell_type": "code",
   "execution_count": 8,
   "id": "50734289-9d51-45ef-8e66-d17b59f7fd46",
   "metadata": {},
   "outputs": [
    {
     "name": "stdout",
     "output_type": "stream",
     "text": [
      "Requirement already satisfied: pymongo in c:\\users\\maitreya\\anaconda3\\envs\\r4-base\\lib\\site-packages (4.6.3)\n",
      "Requirement already satisfied: dnspython<3.0.0,>=1.16.0 in c:\\users\\maitreya\\anaconda3\\envs\\r4-base\\lib\\site-packages (from pymongo) (2.6.1)\n",
      "Note: you may need to restart the kernel to use updated packages.\n"
     ]
    }
   ],
   "source": [
    "pip install pymongo "
   ]
  },
  {
   "cell_type": "code",
   "execution_count": 9,
   "id": "c8875568-a334-47e6-93e6-c36f751e1742",
   "metadata": {},
   "outputs": [
    {
     "name": "stdout",
     "output_type": "stream",
     "text": [
      "Requirement already satisfied: pandas in c:\\users\\maitreya\\anaconda3\\envs\\r4-base\\lib\\site-packages (2.2.1)\n",
      "Requirement already satisfied: matplotlib in c:\\users\\maitreya\\anaconda3\\envs\\r4-base\\lib\\site-packages (3.8.3)\n",
      "Requirement already satisfied: seaborn in c:\\users\\maitreya\\anaconda3\\envs\\r4-base\\lib\\site-packages (0.13.2)\n",
      "Requirement already satisfied: mysql-connector-python in c:\\users\\maitreya\\anaconda3\\envs\\r4-base\\lib\\site-packages (8.3.0)\n",
      "Requirement already satisfied: numpy<2,>=1.23.2 in c:\\users\\maitreya\\anaconda3\\envs\\r4-base\\lib\\site-packages (from pandas) (1.26.4)\n",
      "Requirement already satisfied: python-dateutil>=2.8.2 in c:\\users\\maitreya\\anaconda3\\envs\\r4-base\\lib\\site-packages (from pandas) (2.8.2)\n",
      "Requirement already satisfied: pytz>=2020.1 in c:\\users\\maitreya\\anaconda3\\envs\\r4-base\\lib\\site-packages (from pandas) (2023.3.post1)\n",
      "Requirement already satisfied: tzdata>=2022.7 in c:\\users\\maitreya\\anaconda3\\envs\\r4-base\\lib\\site-packages (from pandas) (2024.1)\n",
      "Requirement already satisfied: contourpy>=1.0.1 in c:\\users\\maitreya\\anaconda3\\envs\\r4-base\\lib\\site-packages (from matplotlib) (1.2.0)\n",
      "Requirement already satisfied: cycler>=0.10 in c:\\users\\maitreya\\anaconda3\\envs\\r4-base\\lib\\site-packages (from matplotlib) (0.12.1)\n",
      "Requirement already satisfied: fonttools>=4.22.0 in c:\\users\\maitreya\\anaconda3\\envs\\r4-base\\lib\\site-packages (from matplotlib) (4.49.0)\n",
      "Requirement already satisfied: kiwisolver>=1.3.1 in c:\\users\\maitreya\\anaconda3\\envs\\r4-base\\lib\\site-packages (from matplotlib) (1.4.5)\n",
      "Requirement already satisfied: packaging>=20.0 in c:\\users\\maitreya\\anaconda3\\envs\\r4-base\\lib\\site-packages (from matplotlib) (23.1)\n",
      "Requirement already satisfied: pillow>=8 in c:\\users\\maitreya\\anaconda3\\envs\\r4-base\\lib\\site-packages (from matplotlib) (10.2.0)\n",
      "Requirement already satisfied: pyparsing>=2.3.1 in c:\\users\\maitreya\\anaconda3\\envs\\r4-base\\lib\\site-packages (from matplotlib) (3.1.1)\n",
      "Requirement already satisfied: six>=1.5 in c:\\users\\maitreya\\anaconda3\\envs\\r4-base\\lib\\site-packages (from python-dateutil>=2.8.2->pandas) (1.16.0)\n",
      "Note: you may need to restart the kernel to use updated packages.\n"
     ]
    }
   ],
   "source": [
    "pip install pandas matplotlib seaborn mysql-connector-python "
   ]
  },
  {
   "cell_type": "code",
   "execution_count": 10,
   "id": "491b1049-6c23-46e6-8376-e66d7cf9c93e",
   "metadata": {},
   "outputs": [
    {
     "name": "stdout",
     "output_type": "stream",
     "text": [
      "Requirement already satisfied: mysql-connector-python in c:\\users\\maitreya\\anaconda3\\envs\\r4-base\\lib\\site-packages (8.3.0)\n",
      "Note: you may need to restart the kernel to use updated packages.\n"
     ]
    }
   ],
   "source": [
    "pip install mysql-connector-python"
   ]
  },
  {
   "cell_type": "code",
   "execution_count": 11,
   "id": "de0f0798-8513-46fe-81f8-3e3fb3f361b2",
   "metadata": {},
   "outputs": [
    {
     "name": "stdout",
     "output_type": "stream",
     "text": [
      "Requirement already satisfied: pymysql in c:\\users\\maitreya\\anaconda3\\envs\\r4-base\\lib\\site-packages (1.1.0)\n",
      "Note: you may need to restart the kernel to use updated packages.\n"
     ]
    }
   ],
   "source": [
    "pip install pymysql"
   ]
  },
  {
   "cell_type": "code",
   "execution_count": 12,
   "id": "bc50cd2f-1d6d-4884-b7af-3d6b2ad68a64",
   "metadata": {},
   "outputs": [
    {
     "name": "stdout",
     "output_type": "stream",
     "text": [
      "Requirement already satisfied: pandas in c:\\users\\maitreya\\anaconda3\\envs\\r4-base\\lib\\site-packages (2.2.1)\n",
      "Requirement already satisfied: sqlalchemy in c:\\users\\maitreya\\anaconda3\\envs\\r4-base\\lib\\site-packages (2.0.29)\n",
      "Requirement already satisfied: pymysql in c:\\users\\maitreya\\anaconda3\\envs\\r4-base\\lib\\site-packages (1.1.0)\n",
      "Requirement already satisfied: numpy<2,>=1.23.2 in c:\\users\\maitreya\\anaconda3\\envs\\r4-base\\lib\\site-packages (from pandas) (1.26.4)\n",
      "Requirement already satisfied: python-dateutil>=2.8.2 in c:\\users\\maitreya\\anaconda3\\envs\\r4-base\\lib\\site-packages (from pandas) (2.8.2)\n",
      "Requirement already satisfied: pytz>=2020.1 in c:\\users\\maitreya\\anaconda3\\envs\\r4-base\\lib\\site-packages (from pandas) (2023.3.post1)\n",
      "Requirement already satisfied: tzdata>=2022.7 in c:\\users\\maitreya\\anaconda3\\envs\\r4-base\\lib\\site-packages (from pandas) (2024.1)\n",
      "Requirement already satisfied: typing-extensions>=4.6.0 in c:\\users\\maitreya\\anaconda3\\envs\\r4-base\\lib\\site-packages (from sqlalchemy) (4.9.0)\n",
      "Requirement already satisfied: greenlet!=0.4.17 in c:\\users\\maitreya\\anaconda3\\envs\\r4-base\\lib\\site-packages (from sqlalchemy) (3.0.3)\n",
      "Requirement already satisfied: six>=1.5 in c:\\users\\maitreya\\anaconda3\\envs\\r4-base\\lib\\site-packages (from python-dateutil>=2.8.2->pandas) (1.16.0)\n",
      "Note: you may need to restart the kernel to use updated packages.\n"
     ]
    }
   ],
   "source": [
    "pip install pandas sqlalchemy pymysql"
   ]
  },
  {
   "cell_type": "code",
   "execution_count": 13,
   "id": "c51277c5-25c9-4933-a512-5c542d88d2d1",
   "metadata": {},
   "outputs": [
    {
     "name": "stdout",
     "output_type": "stream",
     "text": [
      "Requirement already satisfied: matplotlib in c:\\users\\maitreya\\anaconda3\\envs\\r4-base\\lib\\site-packages (3.8.3)\n",
      "Requirement already satisfied: contourpy>=1.0.1 in c:\\users\\maitreya\\anaconda3\\envs\\r4-base\\lib\\site-packages (from matplotlib) (1.2.0)\n",
      "Requirement already satisfied: cycler>=0.10 in c:\\users\\maitreya\\anaconda3\\envs\\r4-base\\lib\\site-packages (from matplotlib) (0.12.1)\n",
      "Requirement already satisfied: fonttools>=4.22.0 in c:\\users\\maitreya\\anaconda3\\envs\\r4-base\\lib\\site-packages (from matplotlib) (4.49.0)\n",
      "Requirement already satisfied: kiwisolver>=1.3.1 in c:\\users\\maitreya\\anaconda3\\envs\\r4-base\\lib\\site-packages (from matplotlib) (1.4.5)\n",
      "Requirement already satisfied: numpy<2,>=1.21 in c:\\users\\maitreya\\anaconda3\\envs\\r4-base\\lib\\site-packages (from matplotlib) (1.26.4)\n",
      "Requirement already satisfied: packaging>=20.0 in c:\\users\\maitreya\\anaconda3\\envs\\r4-base\\lib\\site-packages (from matplotlib) (23.1)\n",
      "Requirement already satisfied: pillow>=8 in c:\\users\\maitreya\\anaconda3\\envs\\r4-base\\lib\\site-packages (from matplotlib) (10.2.0)\n",
      "Requirement already satisfied: pyparsing>=2.3.1 in c:\\users\\maitreya\\anaconda3\\envs\\r4-base\\lib\\site-packages (from matplotlib) (3.1.1)\n",
      "Requirement already satisfied: python-dateutil>=2.7 in c:\\users\\maitreya\\anaconda3\\envs\\r4-base\\lib\\site-packages (from matplotlib) (2.8.2)\n",
      "Requirement already satisfied: six>=1.5 in c:\\users\\maitreya\\anaconda3\\envs\\r4-base\\lib\\site-packages (from python-dateutil>=2.7->matplotlib) (1.16.0)\n",
      "Note: you may need to restart the kernel to use updated packages.\n"
     ]
    }
   ],
   "source": [
    "pip install matplotlib"
   ]
  },
  {
   "cell_type": "code",
   "execution_count": 14,
   "id": "88d3c6f8-ef9c-4d36-83ac-8f3efc2980b6",
   "metadata": {},
   "outputs": [
    {
     "name": "stdout",
     "output_type": "stream",
     "text": [
      "Requirement already satisfied: seaborn in c:\\users\\maitreya\\anaconda3\\envs\\r4-base\\lib\\site-packages (0.13.2)Note: you may need to restart the kernel to use updated packages.\n",
      "\n",
      "Requirement already satisfied: numpy!=1.24.0,>=1.20 in c:\\users\\maitreya\\anaconda3\\envs\\r4-base\\lib\\site-packages (from seaborn) (1.26.4)\n",
      "Requirement already satisfied: pandas>=1.2 in c:\\users\\maitreya\\anaconda3\\envs\\r4-base\\lib\\site-packages (from seaborn) (2.2.1)\n",
      "Requirement already satisfied: matplotlib!=3.6.1,>=3.4 in c:\\users\\maitreya\\anaconda3\\envs\\r4-base\\lib\\site-packages (from seaborn) (3.8.3)\n",
      "Requirement already satisfied: contourpy>=1.0.1 in c:\\users\\maitreya\\anaconda3\\envs\\r4-base\\lib\\site-packages (from matplotlib!=3.6.1,>=3.4->seaborn) (1.2.0)\n",
      "Requirement already satisfied: cycler>=0.10 in c:\\users\\maitreya\\anaconda3\\envs\\r4-base\\lib\\site-packages (from matplotlib!=3.6.1,>=3.4->seaborn) (0.12.1)\n",
      "Requirement already satisfied: fonttools>=4.22.0 in c:\\users\\maitreya\\anaconda3\\envs\\r4-base\\lib\\site-packages (from matplotlib!=3.6.1,>=3.4->seaborn) (4.49.0)\n",
      "Requirement already satisfied: kiwisolver>=1.3.1 in c:\\users\\maitreya\\anaconda3\\envs\\r4-base\\lib\\site-packages (from matplotlib!=3.6.1,>=3.4->seaborn) (1.4.5)\n",
      "Requirement already satisfied: packaging>=20.0 in c:\\users\\maitreya\\anaconda3\\envs\\r4-base\\lib\\site-packages (from matplotlib!=3.6.1,>=3.4->seaborn) (23.1)\n",
      "Requirement already satisfied: pillow>=8 in c:\\users\\maitreya\\anaconda3\\envs\\r4-base\\lib\\site-packages (from matplotlib!=3.6.1,>=3.4->seaborn) (10.2.0)\n",
      "Requirement already satisfied: pyparsing>=2.3.1 in c:\\users\\maitreya\\anaconda3\\envs\\r4-base\\lib\\site-packages (from matplotlib!=3.6.1,>=3.4->seaborn) (3.1.1)\n",
      "Requirement already satisfied: python-dateutil>=2.7 in c:\\users\\maitreya\\anaconda3\\envs\\r4-base\\lib\\site-packages (from matplotlib!=3.6.1,>=3.4->seaborn) (2.8.2)\n",
      "Requirement already satisfied: pytz>=2020.1 in c:\\users\\maitreya\\anaconda3\\envs\\r4-base\\lib\\site-packages (from pandas>=1.2->seaborn) (2023.3.post1)\n",
      "Requirement already satisfied: tzdata>=2022.7 in c:\\users\\maitreya\\anaconda3\\envs\\r4-base\\lib\\site-packages (from pandas>=1.2->seaborn) (2024.1)\n",
      "Requirement already satisfied: six>=1.5 in c:\\users\\maitreya\\anaconda3\\envs\\r4-base\\lib\\site-packages (from python-dateutil>=2.7->matplotlib!=3.6.1,>=3.4->seaborn) (1.16.0)\n"
     ]
    }
   ],
   "source": [
    "pip install seaborn"
   ]
  },
  {
   "cell_type": "markdown",
   "id": "d53e857a-2b86-4cda-b32d-c55d78cdb940",
   "metadata": {},
   "source": [
    "# ------------------------------------------------------------------------------------------------------------------------------------------------------------------------------------"
   ]
  },
  {
   "cell_type": "markdown",
   "id": "75c1e015-c093-4ff8-a0a7-24087db6eb9a",
   "metadata": {},
   "source": [
    "# Importing Libraries"
   ]
  },
  {
   "cell_type": "markdown",
   "id": "4a95af26-b88d-4ece-87ea-ea5212aa1363",
   "metadata": {},
   "source": [
    "# --------------------------------------------------------------------------------------------------------------------------------------------------------------------------------------------------"
   ]
  },
  {
   "cell_type": "markdown",
   "id": "73207d24-8cab-4f0a-8ca8-af8693bc7c9c",
   "metadata": {},
   "source": []
  },
  {
   "cell_type": "code",
   "execution_count": null,
   "id": "53b30777-03a6-4e8a-8db9-6ca64dad6d99",
   "metadata": {},
   "outputs": [],
   "source": [
    "import selenium\n",
    "import os\n",
    "import pandas as pd\n",
    "import mysql.connector as mysql\n",
    "import matplotlib.pyplot as plt\n",
    "import seaborn as sns\n",
    "import matplotlib.pyplot as plt\n"
   ]
  },
  {
   "cell_type": "markdown",
   "id": "170f1511-803c-4c83-9179-3ecef5686914",
   "metadata": {},
   "source": [
    "# -----------------------------------------------------------------------------------------------------------------------------------------------------------------------------------------------"
   ]
  },
  {
   "cell_type": "markdown",
   "id": "4350bd8d-6e1c-4def-8018-4710680e4ee4",
   "metadata": {},
   "source": [
    "# Package Call"
   ]
  },
  {
   "cell_type": "markdown",
   "id": "2cbd6f2c-6faf-47fc-8b89-948250593c5f",
   "metadata": {},
   "source": [
    "# ---------------------------------------------------------------------------------------------------------------------------------------------------------------------------------------------------"
   ]
  },
  {
   "cell_type": "code",
   "execution_count": 16,
   "id": "79f029df-b5d4-4d2d-bcc6-82524e81c439",
   "metadata": {},
   "outputs": [],
   "source": [
    "from selenium import webdriver\n",
    "from selenium.webdriver.chrome.service import Service\n",
    "from webdriver_manager.chrome import ChromeDriverManager\n",
    "from selenium.webdriver.chrome.options import Options\n",
    "from selenium.webdriver.common.by import By\n",
    "from selenium.webdriver.support.ui import WebDriverWait\n",
    "from selenium.webdriver.support import expected_conditions as EC\n",
    "from pymongo import MongoClient\n",
    "from sqlalchemy import create_engine\n",
    "import seaborn as sns\n",
    "import warnings\n",
    "warnings.filterwarnings('ignore')\n",
    "\n"
   ]
  },
  {
   "cell_type": "markdown",
   "id": "154c315f-77f0-4194-b28e-a3e2f515f593",
   "metadata": {},
   "source": [
    "# ----------------------------------------------------------------------------------------------------------------------------------------------------------------------------------------------------"
   ]
  },
  {
   "cell_type": "markdown",
   "id": "ca28ca09-5012-43f8-9029-88465a3d60c1",
   "metadata": {},
   "source": [
    "# Ignoring   Warnings "
   ]
  },
  {
   "cell_type": "code",
   "execution_count": null,
   "id": "568aa154-2780-46e7-b097-fc0fa8ce7127",
   "metadata": {},
   "outputs": [],
   "source": [
    "warnings.filterwarnings('ignore')"
   ]
  },
  {
   "cell_type": "markdown",
   "id": "0c14c31f-93e9-4db1-80c8-1f140c963de3",
   "metadata": {},
   "source": [
    "# ------------------------------------------------------------------------------------------------------------------------------------------------------------------------------------------------"
   ]
  },
  {
   "cell_type": "markdown",
   "id": "475508ae-57f4-4a6c-81e7-0e2614bffbc4",
   "metadata": {},
   "source": [
    "## 1.  File Extraction Using Selenium"
   ]
  },
  {
   "cell_type": "code",
   "execution_count": null,
   "id": "b10a5563-1841-431b-8cca-6fab6ce8a5e3",
   "metadata": {},
   "outputs": [],
   "source": []
  },
  {
   "cell_type": "code",
   "execution_count": null,
   "id": "2a7f70ca-e0fc-4108-bd54-1b2f077389c3",
   "metadata": {},
   "outputs": [],
   "source": []
  },
  {
   "cell_type": "code",
   "execution_count": null,
   "id": "ff0f1140-8b86-48f2-9e8e-256e5a175ecc",
   "metadata": {},
   "outputs": [],
   "source": []
  },
  {
   "cell_type": "code",
   "execution_count": null,
   "id": "7fc34672-feff-4eb5-8252-5e390b033d00",
   "metadata": {},
   "outputs": [],
   "source": []
  },
  {
   "cell_type": "code",
   "execution_count": null,
   "id": "5018aa33-cfc1-47e6-9aaf-2f1f4f88f7c4",
   "metadata": {},
   "outputs": [],
   "source": []
  },
  {
   "cell_type": "code",
   "execution_count": null,
   "id": "8e4c15f6-51d4-4daa-9c63-6ed08a36c357",
   "metadata": {},
   "outputs": [],
   "source": [
    "\n"
   ]
  }
 ],
 "metadata": {
  "kernelspec": {
   "display_name": "Python 3 (ipykernel)",
   "language": "python",
   "name": "python3"
  },
  "language_info": {
   "codemirror_mode": {
    "name": "ipython",
    "version": 3
   },
   "file_extension": ".py",
   "mimetype": "text/x-python",
   "name": "python",
   "nbconvert_exporter": "python",
   "pygments_lexer": "ipython3",
   "version": "3.11.7"
  },
  "widgets": {
   "application/vnd.jupyter.widget-state+json": {
    "state": {},
    "version_major": 2,
    "version_minor": 0
   }
  }
 },
 "nbformat": 4,
 "nbformat_minor": 5
}
