{
 "cells": [
  {
   "cell_type": "markdown",
   "id": "f9af370d-63f2-4aad-ae09-bf082e387aeb",
   "metadata": {},
   "source": [
    "# --------------------------------------------------------------------------------------------------------------------------------------------------------------------------------------"
   ]
  },
  {
   "cell_type": "markdown",
   "id": "e1ea30f6-6840-42ec-b656-0e69a8139044",
   "metadata": {},
   "source": [
    "## Name :- Maitreya Govind Lavalekar \n",
    "## Student No:- x23209976\n",
    "## Database & Analytics Programming (MSCDAD_A_JAN24I)"
   ]
  },
  {
   "cell_type": "markdown",
   "id": "574e3f30-2914-4daa-ab82-4458e0ea2313",
   "metadata": {},
   "source": [
    "# ----------------------------------------------------------------------------------------------------------------------------------------------------------------------------------------"
   ]
  },
  {
   "cell_type": "markdown",
   "id": "5952bbe4-100a-49dc-8392-5f47c2010be5",
   "metadata": {},
   "source": [
    "#   Installed  Libraries  "
   ]
  },
  {
   "cell_type": "code",
   "execution_count": 1,
   "id": "7b6f6068-9608-4005-bde4-69251e674ae6",
   "metadata": {},
   "outputs": [],
   "source": [
    "#pip install selenium"
   ]
  },
  {
   "cell_type": "code",
   "execution_count": 2,
   "id": "f4957581-aeda-4b67-bd60-1bfb6a1e36d4",
   "metadata": {},
   "outputs": [],
   "source": [
    "#pip install webdriver-manager"
   ]
  },
  {
   "cell_type": "code",
   "execution_count": 3,
   "id": "50734289-9d51-45ef-8e66-d17b59f7fd46",
   "metadata": {},
   "outputs": [],
   "source": [
    "#pip install pymongo "
   ]
  },
  {
   "cell_type": "code",
   "execution_count": 4,
   "id": "c8875568-a334-47e6-93e6-c36f751e1742",
   "metadata": {},
   "outputs": [],
   "source": [
    "#pip install pandas matplotlib seaborn mysql-connector-python "
   ]
  },
  {
   "cell_type": "code",
   "execution_count": 5,
   "id": "491b1049-6c23-46e6-8376-e66d7cf9c93e",
   "metadata": {},
   "outputs": [],
   "source": [
    "#pip install mysql-connector-python"
   ]
  },
  {
   "cell_type": "code",
   "execution_count": 6,
   "id": "de0f0798-8513-46fe-81f8-3e3fb3f361b2",
   "metadata": {},
   "outputs": [],
   "source": [
    "#pip install pymysql"
   ]
  },
  {
   "cell_type": "code",
   "execution_count": 7,
   "id": "bc50cd2f-1d6d-4884-b7af-3d6b2ad68a64",
   "metadata": {},
   "outputs": [],
   "source": [
    "#pip install pandas sqlalchemy pymysql"
   ]
  },
  {
   "cell_type": "code",
   "execution_count": 8,
   "id": "c51277c5-25c9-4933-a512-5c542d88d2d1",
   "metadata": {},
   "outputs": [],
   "source": [
    "#pip install matplotlib"
   ]
  },
  {
   "cell_type": "code",
   "execution_count": 9,
   "id": "88d3c6f8-ef9c-4d36-83ac-8f3efc2980b6",
   "metadata": {},
   "outputs": [],
   "source": [
    "#pip install seaborn"
   ]
  },
  {
   "cell_type": "markdown",
   "id": "d53e857a-2b86-4cda-b32d-c55d78cdb940",
   "metadata": {},
   "source": [
    "# ------------------------------------------------------------------------------------------------------------------------------------------------------------------------------------"
   ]
  },
  {
   "cell_type": "markdown",
   "id": "75c1e015-c093-4ff8-a0a7-24087db6eb9a",
   "metadata": {},
   "source": [
    "# Importing Libraries"
   ]
  },
  {
   "cell_type": "markdown",
   "id": "4a95af26-b88d-4ece-87ea-ea5212aa1363",
   "metadata": {},
   "source": [
    "# --------------------------------------------------------------------------------------------------------------------------------------------------------------------------------------------------"
   ]
  },
  {
   "cell_type": "markdown",
   "id": "73207d24-8cab-4f0a-8ca8-af8693bc7c9c",
   "metadata": {},
   "source": []
  },
  {
   "cell_type": "code",
   "execution_count": 10,
   "id": "53b30777-03a6-4e8a-8db9-6ca64dad6d99",
   "metadata": {},
   "outputs": [],
   "source": [
    "import selenium\n",
    "import os\n",
    "import pandas as pd\n",
    "import mysql.connector as mysql\n",
    "import matplotlib.pyplot as plt\n",
    "import seaborn as sns\n",
    "import matplotlib.pyplot as plt\n"
   ]
  },
  {
   "cell_type": "markdown",
   "id": "170f1511-803c-4c83-9179-3ecef5686914",
   "metadata": {},
   "source": [
    "# -----------------------------------------------------------------------------------------------------------------------------------------------------------------------------------------------"
   ]
  },
  {
   "cell_type": "markdown",
   "id": "4350bd8d-6e1c-4def-8018-4710680e4ee4",
   "metadata": {},
   "source": [
    "# Package Call"
   ]
  },
  {
   "cell_type": "markdown",
   "id": "2cbd6f2c-6faf-47fc-8b89-948250593c5f",
   "metadata": {},
   "source": [
    "# ---------------------------------------------------------------------------------------------------------------------------------------------------------------------------------------------------"
   ]
  },
  {
   "cell_type": "code",
   "execution_count": 11,
   "id": "79f029df-b5d4-4d2d-bcc6-82524e81c439",
   "metadata": {},
   "outputs": [],
   "source": [
    "from selenium import webdriver\n",
    "from selenium.webdriver.chrome.service import Service\n",
    "from webdriver_manager.chrome import ChromeDriverManager\n",
    "from selenium.webdriver.chrome.options import Options\n",
    "from selenium.webdriver.common.by import By\n",
    "from selenium.webdriver.support.ui import WebDriverWait\n",
    "from selenium.webdriver.support import expected_conditions as EC\n",
    "from pymongo import MongoClient\n",
    "from sqlalchemy import create_engine\n",
    "import seaborn as sns\n",
    "import warnings\n",
    "warnings.filterwarnings('ignore')\n",
    "\n"
   ]
  },
  {
   "cell_type": "markdown",
   "id": "154c315f-77f0-4194-b28e-a3e2f515f593",
   "metadata": {},
   "source": [
    "# ----------------------------------------------------------------------------------------------------------------------------------------------------------------------------------------------------"
   ]
  },
  {
   "cell_type": "markdown",
   "id": "ca28ca09-5012-43f8-9029-88465a3d60c1",
   "metadata": {},
   "source": [
    "# Ignoring   Warnings "
   ]
  },
  {
   "cell_type": "code",
   "execution_count": 12,
   "id": "568aa154-2780-46e7-b097-fc0fa8ce7127",
   "metadata": {},
   "outputs": [],
   "source": [
    "warnings.filterwarnings('ignore')"
   ]
  },
  {
   "cell_type": "markdown",
   "id": "0c14c31f-93e9-4db1-80c8-1f140c963de3",
   "metadata": {},
   "source": [
    "# ------------------------------------------------------------------------------------------------------------------------------------------------------------------------------------------------"
   ]
  },
  {
   "cell_type": "markdown",
   "id": "475508ae-57f4-4a6c-81e7-0e2614bffbc4",
   "metadata": {},
   "source": [
    "## 1.  File Extraction Using Selenium"
   ]
  },
  {
   "cell_type": "code",
   "execution_count": 13,
   "id": "b10a5563-1841-431b-8cca-6fab6ce8a5e3",
   "metadata": {},
   "outputs": [],
   "source": [
    "options = Options() \n",
    "service = Service(ChromeDriverManager().install()) # Set up the Chrome WebDriver with the service and choices that were given.\n",
    "driver = webdriver.Chrome(service=service, options=options)\n"
   ]
  },
  {
   "cell_type": "code",
   "execution_count": 14,
   "id": "2a7f70ca-e0fc-4108-bd54-1b2f077389c3",
   "metadata": {},
   "outputs": [],
   "source": [
    "driver.get(\"https://www.fao.org/faostat/en/#data/GV\") # This command  navigate to the  web page \n"
   ]
  },
  {
   "cell_type": "code",
   "execution_count": 15,
   "id": "ff0f1140-8b86-48f2-9e8e-256e5a175ecc",
   "metadata": {},
   "outputs": [],
   "source": [
    "# Increase timeout as needed depending on the page load time\n",
    "wait = WebDriverWait(driver, 20)  # Wait up to 20 seconds  \n",
    "\n",
    "# Accessing  webPage elements by Inspecting and Coping FullXpath \n",
    "First_button = wait.until(EC.element_to_be_clickable((By.XPATH, '/html/body/div[4]/div[3]/div/div[4]/div[1]/div/div[1]/div/div[2]/div/div[1]/div/div[1]/div/div/div[3]/div[1]/div/div/button[1]')))\n",
    "\n",
    "\n",
    "\n",
    "# wait for the second element to be visible and clickable \n",
    "second_element = wait.until(EC.element_to_be_clickable((By.XPATH, '/html/body/div[4]/div[3]/div/div[4]/div[1]/div/div[1]/div/div[2]/div/div[1]/div/div[2]/div/div/div[2]/div[2]/div/div/ul/li[2]/a/span')))\n",
    "\n",
    "Third_element = wait.until(EC.element_to_be_clickable((By.XPATH,'/html/body/div[4]/div[3]/div/div[4]/div[1]/div/div[1]/div/div[2]/div/div[1]/div/div[2]/div/div/div[2]/div[2]/div/div/ul/li[4]/a/i[1]')))\n",
    "\n",
    "\n",
    "Fourth_element=wait.until(EC.element_to_be_clickable((By.XPATH,'/html/body/div[4]/div[3]/div/div[4]/div[1]/div/div[1]/div/div[2]/div/div[1]/div/div[4]/div/div/div[3]/div[1]/div/div/button[1]')))\n",
    "\n",
    "\n",
    "# Click on the elements \n",
    "First_button.click()\n",
    "second_element.click()\n",
    "Third_element.click() \n",
    "Fourth_element.click()\n",
    "\n"
   ]
  },
  {
   "cell_type": "code",
   "execution_count": 16,
   "id": "7fc34672-feff-4eb5-8252-5e390b033d00",
   "metadata": {},
   "outputs": [],
   "source": [
    "container_xpath = '/html/body/div[4]/div[3]/div/div[4]/div[1]/div/div[1]/div/div[2]/div/div[1]/div/div[5]/div/div/div[2]/div[2]/div'\n",
    "\n",
    "# Wait for the container to be clickable, then click to reveal the years\n",
    "WebDriverWait(driver, 20).until(\n",
    "    EC.element_to_be_clickable((By.XPATH, container_xpath))\n",
    ").click()\n",
    "\n",
    "# Loop through the year (2000-2022) \n",
    "for year in range(2000, 2022):  # This will loop  start from 2000 to 2021 inclusive\n",
    "    \n",
    "    year_xpath = f\"{container_xpath}//li[contains(., '{year}')]\"  \n",
    "    \n",
    "    # Wait for the year to become clickable, then click it\n",
    "    WebDriverWait(driver, 15).until(\n",
    "        EC.element_to_be_clickable((By.XPATH, year_xpath))\n",
    "    ).click()\n",
    "   "
   ]
  },
  {
   "cell_type": "markdown",
   "id": "93d44204-896d-46cf-a9e8-79c0cdaad589",
   "metadata": {},
   "source": [
    "### Following Command Is Used For Download A file From a Web Browser"
   ]
  },
  {
   "cell_type": "code",
   "execution_count": 17,
   "id": "5018aa33-cfc1-47e6-9aaf-2f1f4f88f7c4",
   "metadata": {},
   "outputs": [],
   "source": [
    "Download_element = wait.until(EC.element_to_be_clickable((By.XPATH,'/html/body/div[4]/div[3]/div/div[4]/div[1]/div/div[1]/div/div[2]/div/div[2]/div[2]/div[3]/button')))\n",
    "Download_element.click()  # Download File From WebPAge "
   ]
  },
  {
   "cell_type": "code",
   "execution_count": 18,
   "id": "8e4c15f6-51d4-4daa-9c63-6ed08a36c357",
   "metadata": {},
   "outputs": [],
   "source": [
    "# Finally, close the browser\n",
    "#driver.quit()\n"
   ]
  },
  {
   "cell_type": "markdown",
   "id": "0ed5bdfb-31b4-428e-a90f-f52d364ed1dd",
   "metadata": {},
   "source": [
    "# --------------------------------------------------------------------------------------------------------------------------------------------------------------------------------------------------------------"
   ]
  },
  {
   "cell_type": "markdown",
   "id": "bf0deb2b-dc64-4654-92f3-5815428d8301",
   "metadata": {},
   "source": [
    "# 1.1  Load DataSet2  To MongoDB Atlas "
   ]
  },
  {
   "cell_type": "markdown",
   "id": "4ba69301-846d-4f10-9846-7eb843e71fa8",
   "metadata": {},
   "source": [
    "# ------------------------------------------------------------------------------------------------------------------------------------------------------------------------"
   ]
  },
  {
   "cell_type": "code",
   "execution_count": null,
   "id": "471566d4-0145-4bdb-8a9b-ee94b771f4ba",
   "metadata": {},
   "outputs": [],
   "source": []
  },
  {
   "cell_type": "code",
   "execution_count": null,
   "id": "804d0753-81e4-4a85-95cf-081420214ea2",
   "metadata": {},
   "outputs": [],
   "source": []
  },
  {
   "cell_type": "code",
   "execution_count": null,
   "id": "9d8720b9-534b-4979-b33a-9fcf71a2fefd",
   "metadata": {},
   "outputs": [],
   "source": []
  },
  {
   "cell_type": "code",
   "execution_count": null,
   "id": "bf1dcba2-73b5-49aa-8149-cdab36ddbf3f",
   "metadata": {},
   "outputs": [],
   "source": []
  },
  {
   "cell_type": "code",
   "execution_count": null,
   "id": "f774de79-e8f2-461e-a491-5de5c2bcb840",
   "metadata": {},
   "outputs": [],
   "source": []
  },
  {
   "cell_type": "code",
   "execution_count": null,
   "id": "352b1401-7acc-4e6d-8a47-90d06f3f13bf",
   "metadata": {},
   "outputs": [],
   "source": []
  },
  {
   "cell_type": "code",
   "execution_count": null,
   "id": "99c42029-9bbe-45fe-8294-1fcb5dc485d7",
   "metadata": {},
   "outputs": [],
   "source": []
  }
 ],
 "metadata": {
  "kernelspec": {
   "display_name": "Python 3 (ipykernel)",
   "language": "python",
   "name": "python3"
  },
  "language_info": {
   "codemirror_mode": {
    "name": "ipython",
    "version": 3
   },
   "file_extension": ".py",
   "mimetype": "text/x-python",
   "name": "python",
   "nbconvert_exporter": "python",
   "pygments_lexer": "ipython3",
   "version": "3.11.7"
  },
  "widgets": {
   "application/vnd.jupyter.widget-state+json": {
    "state": {},
    "version_major": 2,
    "version_minor": 0
   }
  }
 },
 "nbformat": 4,
 "nbformat_minor": 5
}
